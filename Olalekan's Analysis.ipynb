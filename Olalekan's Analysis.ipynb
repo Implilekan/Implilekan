{
 "cells": [
  {
   "cell_type": "code",
   "execution_count": 1,
   "id": "b733e08f-6193-4ffb-8ce2-f418fd7ec261",
   "metadata": {},
   "outputs": [
    {
     "data": {
      "text/plain": [
       "pandas.core.frame.DataFrame"
      ]
     },
     "execution_count": 1,
     "metadata": {},
     "output_type": "execute_result"
    }
   ],
   "source": [
    "import pandas as pd\n",
    "import numpy as np\n",
    "import matplotlib.pyplot as plt\n",
    "nsfg = pd.read_hdf('nsfg.hdf5', 'nsfg')\n",
    "type(nsfg)\n",
    "# National Survey of Family Growth (NSFG) data: 2013 -2015 dataset"
   ]
  },
  {
   "cell_type": "code",
   "execution_count": 2,
   "id": "8f3db511-d7d0-4118-ab31-48badae33975",
   "metadata": {},
   "outputs": [
    {
     "data": {
      "text/plain": [
       "(9358, 10)"
      ]
     },
     "execution_count": 2,
     "metadata": {},
     "output_type": "execute_result"
    }
   ],
   "source": [
    "# Inspect the No of Rows and Columns\n",
    "nsfg.shape"
   ]
  },
  {
   "cell_type": "code",
   "execution_count": 3,
   "id": "24fd00dc-adb9-455b-b238-62acb2b4bac4",
   "metadata": {},
   "outputs": [
    {
     "data": {
      "text/plain": [
       "Index(['caseid', 'outcome', 'birthwgt_lb1', 'birthwgt_oz1', 'prglngth',\n",
       "       'nbrnaliv', 'agecon', 'agepreg', 'hpagelb', 'wgt2013_2015'],\n",
       "      dtype='object')"
      ]
     },
     "execution_count": 3,
     "metadata": {},
     "output_type": "execute_result"
    }
   ],
   "source": [
    "# Names of columns\n",
    "nsfg.columns"
   ]
  },
  {
   "cell_type": "code",
   "execution_count": 4,
   "id": "553fb16b-7221-4b28-8938-66bb2a85aba8",
   "metadata": {},
   "outputs": [
    {
     "data": {
      "text/plain": [
       "0     4.0\n",
       "1    12.0\n",
       "2     4.0\n",
       "3     NaN\n",
       "4    13.0\n",
       "Name: birthwgt_oz1, dtype: float64"
      ]
     },
     "execution_count": 4,
     "metadata": {},
     "output_type": "execute_result"
    }
   ],
   "source": [
    "# Select column 'birthwgt_oz1' as ounces\n",
    "ounces = nsfg['birthwgt_oz1']\n",
    "# Inspect the first 5 elements of Ounces\n",
    "ounces.head()"
   ]
  },
  {
   "cell_type": "code",
   "execution_count": 5,
   "id": "d28956ae-2d0a-4e64-a689-46adc91e5d0f",
   "metadata": {},
   "outputs": [
    {
     "data": {
      "text/plain": [
       "0    5.0\n",
       "1    4.0\n",
       "2    5.0\n",
       "3    NaN\n",
       "4    8.0\n",
       "Name: birthwgt_lb1, dtype: float64"
      ]
     },
     "execution_count": 5,
     "metadata": {},
     "output_type": "execute_result"
    }
   ],
   "source": [
    "# Select column 'birthwgt_lb1' as pounds\n",
    "pounds = nsfg['birthwgt_lb1']\n",
    "# Inspect the first 5 elements of pounds\n",
    "pounds.head()"
   ]
  },
  {
   "cell_type": "code",
   "execution_count": 6,
   "id": "38b6d104-5407-44dc-a98f-2b6f99d462f3",
   "metadata": {},
   "outputs": [
    {
     "data": {
      "text/plain": [
       "0.0        6\n",
       "1.0       34\n",
       "2.0       47\n",
       "3.0       67\n",
       "4.0      196\n",
       "5.0      586\n",
       "6.0     1666\n",
       "7.0     2146\n",
       "8.0     1168\n",
       "9.0      363\n",
       "10.0      82\n",
       "11.0      17\n",
       "12.0       7\n",
       "13.0       2\n",
       "14.0       2\n",
       "17.0       1\n",
       "98.0       1\n",
       "99.0      94\n",
       "Name: birthwgt_lb1, dtype: int64"
      ]
     },
     "execution_count": 6,
     "metadata": {},
     "output_type": "execute_result"
    }
   ],
   "source": [
    "# Inspect counts of weights\n",
    "pounds.value_counts().sort_index()"
   ]
  },
  {
   "cell_type": "code",
   "execution_count": 7,
   "id": "3214ae30-c1e5-4632-82bb-62c3fb1adb36",
   "metadata": {
    "tags": []
   },
   "outputs": [
    {
     "data": {
      "text/plain": [
       "count    6485.000000\n",
       "mean        8.055204\n",
       "std        11.178893\n",
       "min         0.000000\n",
       "25%         6.000000\n",
       "50%         7.000000\n",
       "75%         8.000000\n",
       "max        99.000000\n",
       "Name: birthwgt_lb1, dtype: float64"
      ]
     },
     "execution_count": 7,
     "metadata": {},
     "output_type": "execute_result"
    }
   ],
   "source": [
    "# Generate Summary Statistics\n",
    "pounds.describe()"
   ]
  },
  {
   "cell_type": "code",
   "execution_count": 8,
   "id": "42223c61-640d-434e-a448-d8b745b1c755",
   "metadata": {},
   "outputs": [
    {
     "data": {
      "text/plain": [
       "6.703286384976526"
      ]
     },
     "execution_count": 8,
     "metadata": {},
     "output_type": "execute_result"
    }
   ],
   "source": [
    "# Replace the outliers represeting 'refused' and 'dont know' with NaN\n",
    "pounds = pounds.replace([98, 99], np.nan)\n",
    "# Inspect the mean weight in pounds again\n",
    "pounds.mean()"
   ]
  },
  {
   "cell_type": "code",
   "execution_count": 9,
   "id": "cb90bb6f-44b9-4629-9e0a-451f23683e2b",
   "metadata": {},
   "outputs": [],
   "source": [
    "# Replace the outliers in ounces, use 'inplace=True' to modify the existing series without having to make a new copy\n",
    "ounces.replace([98, 99], np.nan, inplace=True)"
   ]
  },
  {
   "cell_type": "code",
   "execution_count": 10,
   "id": "b1349149-13a6-4e5d-b026-8e63859ab650",
   "metadata": {},
   "outputs": [
    {
     "data": {
      "text/plain": [
       "count    6355.000000\n",
       "mean        7.120978\n",
       "std         1.422236\n",
       "min         0.000000\n",
       "25%         6.375000\n",
       "50%         7.187500\n",
       "75%         8.000000\n",
       "max        17.937500\n",
       "dtype: float64"
      ]
     },
     "execution_count": 10,
     "metadata": {},
     "output_type": "execute_result"
    }
   ],
   "source": [
    "# Get total weight by adding the weights in a uniform unit (lbs)\n",
    "birth_weight = pounds + ounces/16.0\n",
    "birth_weight.describe()"
   ]
  },
  {
   "cell_type": "code",
   "execution_count": 11,
   "id": "faad9f16-880e-408a-9705-f229fbbbbcde",
   "metadata": {},
   "outputs": [
    {
     "data": {
      "text/plain": [
       "1.0    6379\n",
       "2.0     100\n",
       "3.0       5\n",
       "8.0       1\n",
       "Name: nbrnaliv, dtype: int64"
      ]
     },
     "execution_count": 11,
     "metadata": {},
     "output_type": "execute_result"
    }
   ],
   "source": [
    "# Inspect the column 'nbrnaliv' for no of babies born alive at the end of a pregnancy\n",
    "nsfg['nbrnaliv'].value_counts()"
   ]
  },
  {
   "cell_type": "code",
   "execution_count": 12,
   "id": "8df6d0c2-8f7a-433a-bd68-81495e83e1fb",
   "metadata": {},
   "outputs": [
    {
     "data": {
      "text/plain": [
       "1.0    6379\n",
       "2.0     100\n",
       "3.0       5\n",
       "Name: nbrnaliv, dtype: int64"
      ]
     },
     "execution_count": 12,
     "metadata": {},
     "output_type": "execute_result"
    }
   ],
   "source": [
    "# Replace 8 indicating from the code book that the 'respondent refused to answer' with NaN\n",
    "nsfg['nbrnaliv'].replace(8, np.nan, inplace=True)\n",
    "nsfg['nbrnaliv'].value_counts()"
   ]
  },
  {
   "cell_type": "code",
   "execution_count": 13,
   "id": "800210e4-4559-478c-9810-0acc3121303b",
   "metadata": {},
   "outputs": [
    {
     "data": {
      "text/plain": [
       "0    0.75\n",
       "1    0.67\n",
       "2    0.67\n",
       "3     NaN\n",
       "4    0.75\n",
       "dtype: float64"
      ]
     },
     "execution_count": 13,
     "metadata": {},
     "output_type": "execute_result"
    }
   ],
   "source": [
    "# Get the ages at conception and at the end of the pregnancy from the cols 'agecon' and 'agepreg'\n",
    "nsfg[['agecon','agepreg']].head()\n",
    "# Divide them by 100 because they are recorded as integers with two implicit decimals (i.e 2575 == age 25.75)\n",
    "agecon = nsfg['agecon'] / 100\n",
    "agepreg = nsfg['agepreg'] / 100\n",
    "# Compute the difference in agepreg and agecon as the duration of the pregnancy('preg_length)\n",
    "preg_length = agepreg - agecon\n",
    "preg_length.head()"
   ]
  },
  {
   "cell_type": "code",
   "execution_count": 14,
   "id": "a6e3114e-875b-45be-8770-4cabac9a4bf2",
   "metadata": {},
   "outputs": [
    {
     "data": {
      "image/png": "[encoded data removed]",
      "text/plain": [
       "<Figure size 432x288 with 1 Axes>"
      ]
     },
     "metadata": {
      "needs_background": "light"
     },
     "output_type": "display_data"
    }
   ],
   "source": [
    "# Visualize the distribution of birthweights, specify the bins/range into 30\n",
    "plt.hist(birth_weight.dropna(), bins=30)\n",
    "plt.xlabel('Birthweight(lb)')\n",
    "plt.ylabel('Fraction of births')\n",
    "plt.show()"
   ]
  },
  {
   "cell_type": "code",
   "execution_count": 15,
   "id": "d64cbedc-db92-4ae5-8d8e-b54d426c9dda",
   "metadata": {},
   "outputs": [
    {
     "data": {
      "image/png": "[encoded data removed]",
      "text/plain": [
       "<Figure size 432x288 with 1 Axes>"
      ]
     },
     "metadata": {
      "needs_background": "light"
     },
     "output_type": "display_data"
    }
   ],
   "source": [
    "#Visualize the distribution of ages of women at conception, bins = 20\n",
    "plt.hist(agecon, bins=20, histtype= 'step', color='green')\n",
    "plt.xlabel('Age at conception')\n",
    "plt.ylabel('Number of pregnancies')\n",
    "plt.show()"
   ]
  },
  {
   "cell_type": "code",
   "execution_count": 16,
   "id": "7f9e7bb5-5109-433a-a416-8baf332be357",
   "metadata": {},
   "outputs": [
    {
     "data": {
      "text/plain": [
       "0.39987176747168196"
      ]
     },
     "execution_count": 16,
     "metadata": {},
     "output_type": "execute_result"
    }
   ],
   "source": [
    "# Determine the sum of babies that were born preterm (i.e born before 37 weeks of pregnancy)\n",
    "preterm = nsfg['prglngth'] < 37  #gives a boolean series\n",
    "preterm.sum() #sum of all trues\n",
    "preterm.mean() #avg value of trues"
   ]
  },
  {
   "cell_type": "code",
   "execution_count": 17,
   "id": "bc3d36f2-624b-4e59-b2ea-b0270ee769ab",
   "metadata": {},
   "outputs": [
    {
     "data": {
      "text/plain": [
       "5.577598314606742"
      ]
     },
     "execution_count": 17,
     "metadata": {},
     "output_type": "execute_result"
    }
   ],
   "source": [
    "# Get the mean weight of preterm babies\n",
    "preterm_weight = birth_weight[preterm]\n",
    "preterm_weight.mean()"
   ]
  },
  {
   "cell_type": "code",
   "execution_count": 18,
   "id": "24ea80f0-0be9-436f-b1e4-ee4c02f0df8f",
   "metadata": {},
   "outputs": [
    {
     "data": {
      "text/plain": [
       "7.372323879231473"
      ]
     },
     "execution_count": 18,
     "metadata": {},
     "output_type": "execute_result"
    }
   ],
   "source": [
    "# Get the mean weight of full term babies by using not (~) on preterm\n",
    "full_term_weight = birth_weight[~preterm]\n",
    "full_term_weight.mean()"
   ]
  },
  {
   "cell_type": "code",
   "execution_count": 19,
   "id": "b332b9c1-a609-4553-ad7e-3f2cdc4ecbac",
   "metadata": {},
   "outputs": [
    {
     "name": "stdout",
     "output_type": "stream",
     "text": [
      "Single full-term mean weight: 7.385643450184502\n"
     ]
    }
   ],
   "source": [
    "# Compute birth_weight for Single full term babies\n",
    "single_full_term_babies = nsfg['nbrnaliv'] == 1\n",
    "single_full_term_weight = birth_weight[single_full_term_babies & ~preterm]\n",
    "print('Single full-term mean weight:', single_full_term_weight.mean())"
   ]
  },
  {
   "cell_type": "code",
   "execution_count": 20,
   "id": "562b1952-9fe6-46ef-a05f-5cdcc57046a4",
   "metadata": {},
   "outputs": [
    {
     "name": "stdout",
     "output_type": "stream",
     "text": [
      "Multiple full-term mean weight: 5.768055555555556\n"
     ]
    }
   ],
   "source": [
    "# Compute birth_weight for Multiple full term babies\n",
    "multiple_full_term_weight = birth_weight[~single_full_term_babies & ~preterm]\n",
    "print('Multiple full-term mean weight:', multiple_full_term_weight.mean())"
   ]
  }
 ],
 "metadata": {
  "kernelspec": {
   "display_name": "Python 3 (ipykernel)",
   "language": "python",
   "name": "python3"
  },
  "language_info": {
   "codemirror_mode": {
    "name": "ipython",
    "version": 3
   },
   "file_extension": ".py",
   "mimetype": "text/x-python",
   "name": "python",
   "nbconvert_exporter": "python",
   "pygments_lexer": "ipython3",
   "version": "3.9.7"
  }
 },
 "nbformat": 4,
 "nbformat_minor": 5
}
