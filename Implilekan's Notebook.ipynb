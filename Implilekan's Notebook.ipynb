{
    "cells": [
        {
            "cell_type": "markdown",
            "metadata": {
                "collapsed": true
            },
            "source": "# My Jupyter Notebook on IBM Watson Studio"
        },
        {
            "cell_type": "markdown",
            "metadata": {},
            "source": "## OLUJOBI OLALEKAN SAMSON\nI would like to become a renowned Data Scientist and Machine Learning Expert"
        },
        {
            "cell_type": "markdown",
            "metadata": {},
            "source": "*I have derived interest in Data Science because it is a field that supports my curiosity lifestyle and aligns with my urge to make real impact in world existence. I would like to apply my Data Science skills to the analysis of real life problems and the provision of solutions to these problems in a a bid to make the world a better place for Man*"
        },
        {
            "cell_type": "markdown",
            "metadata": {},
            "source": "### The code below describes the product of 2 and 5"
        },
        {
            "cell_type": "code",
            "execution_count": 4,
            "metadata": {},
            "outputs": [
                {
                    "data": {
                        "text/plain": "10"
                    },
                    "execution_count": 4,
                    "metadata": {},
                    "output_type": "execute_result"
                }
            ],
            "source": "#Multiplication \n2 * 5"
        },
        {
            "cell_type": "markdown",
            "metadata": {},
            "source": "* I am happy to have started this journey\n* I hope to be sucessful in this field\n\nYou can access IBM Watson studio services by visiting https://cloud.ibm.com\n\n~~Thank You ALL~~"
        }
    ],
    "metadata": {
        "kernelspec": {
            "display_name": "Python 3.8",
            "language": "python",
            "name": "python3"
        },
        "language_info": {
            "codemirror_mode": {
                "name": "ipython",
                "version": 3
            },
            "file_extension": ".py",
            "mimetype": "text/x-python",
            "name": "python",
            "nbconvert_exporter": "python",
            "pygments_lexer": "ipython3",
            "version": "3.8.12"
        }
    },
    "nbformat": 4,
    "nbformat_minor": 1
}