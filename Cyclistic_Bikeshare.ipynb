{
 "cells": [
  {
   "cell_type": "markdown",
   "id": "78810a73-ff3a-42c1-8402-df99cdd30699",
   "metadata": {
    "tags": []
   },
   "source": [
    "# CASE STUDY: HOW DOES A BIKE SHARE NAVIGATE SUCCESS?\n",
    "\n",
    "## THE CYCLISTIC BIKE SHARE ANALYSIS\n",
    "### APRIL 2022\n",
    "<img src=\"https://blogstudio.s3.amazonaws.com/thousand-helmets/2cc74c9c1f4d9441dcb1e0baab01229a.jpg\" style=\"width: 600px;\"/>\n",
    "\n",
    "### <p style='text-align: right;'> BY OLALEKAN SAMSON OLUJOBI </p>"
   ]
  },
  {
   "cell_type": "markdown",
   "id": "be4d477a-1e97-420f-a8ab-6df5aaee95b8",
   "metadata": {},
   "source": [
    "#### Problem Statement:\n",
    "\n",
    "                LESS PROFITABILITY OF CASUAL BIKE RIDERS\n",
    "                \n",
    "\n",
    "#### Business Task: \n",
    "\n",
    "                CONVERTING CASUAL RIDERS INTO ANNUAL MEMBERS FOR INCREASED PROFITABILITY WITHOUT LOSING THE CUSTOMERS"
   ]
  },
  {
   "cell_type": "markdown",
   "id": "e66efca2-c96b-4a11-acb6-1f48bd08800e",
   "metadata": {},
   "source": [
    "\n",
    "\n",
    "# **INTRODUCTION**"
   ]
  },
  {
   "cell_type": "markdown",
   "id": "fcf7851e-c97f-4be0-824b-f93140971224",
   "metadata": {},
   "source": [
    "##### Data Source: [Cyclistic's dataset from March 2021 to February 2022](https://divvy-tripdata.s3.amazonaws.com/index.html)\n",
    "\n",
    "This is a public data that has been made available by Motivate International Inc. under this [license](https://ride.divvybikes.com/data-license-agreement) and data-privacy issues prohibits the use of riders' personally identifiable information.\n",
    "\n",
    "##### Metadata: \n",
    "\n",
    "* ride_id: 16-character unique identifier for each ride (a combination of numbers and alphabets)\n",
    "* rideable_type: type of bike; classic, docked, or electric\n",
    "* started_at: date and time trip started\n",
    "* ended_at: date and time trip ended\n",
    "* start_station_name: name of trip's start station\n",
    "* start_station_id: unique identifier for start station\n",
    "* end_station_name: name of trip's end station\n",
    "* end_station_id: unique identifier for end station\n",
    "* start_lat: latitude of start station\n",
    "* start_lng: longitude of start station\n",
    "* end_lat: latitude of end station\n",
    "* end_lng: longitude of end station\n",
    "* member_casual: membership status; casual or member"
   ]
  },
  {
   "cell_type": "markdown",
   "id": "922e90cc-3760-40ab-a705-83eb75788e4e",
   "metadata": {},
   "source": [
    "\n",
    "# **PREPARATION AND PROCESSING**"
   ]
  },
  {
   "cell_type": "markdown",
   "id": "6e4feca1-4623-442f-a1a4-9775275e2316",
   "metadata": {},
   "source": [
    "#### With this dataset, we will be able to:\n",
    "\n",
    "* Monitor the trends of Cyclistic bike-sharing within the period under review for members and casual riders\n",
    "* Estimate the average trip time for riders\n",
    "* Identify the most used start stations and end stations\n",
    "* Compare the ratio of members to casual riders within the period\n",
    "\n",
    "#### Limitations of this dataset include but no limited to:\n",
    "\n",
    "* Fee for membership is not obtainable\n",
    "* Membership registration date is not included\n",
    "* It does not indicate when a casual member buys an annual membership within the period under review\n",
    "* It does not include the charge for each casual bike trip"
   ]
  },
  {
   "cell_type": "markdown",
   "id": "2b8f32d7-f807-4ae0-aafc-223737d5d074",
   "metadata": {},
   "source": [
    "#### <u> Observations </u>\n",
    "\n",
    "   1. Total number of rides within the review period is 5,667,986\n",
    "   \n",
    "   2. Start station names nor Start station Ids were not recorded for a total of 712,975 trips.\n",
    "   \n",
    "   3. End station names nor End station Ids was not recorded for a total of 761,817.\n",
    "   \n",
    "   4. Different Start Stations names and Ids were attributed to same Location (Latitude and Longitude), a record of 1,403 occurrences\n",
    "   \n",
    "   5. Different End Stations names and Ids were attributed to same Location (Latitude and Longitude), a record of 12,096 occurrences\n",
    "   \n",
    "   6. Recorded Trip Start and End times were the same for 508 rides while 145 rides had their End times earlier than the Start times\n",
    "\n",
    "#### <u> Actions taken </u>\n",
    "    \n",
    "   1. None\n",
    "   \n",
    "   2. Start Latitudes and Longitudes for these trips were used to determine their Start station name and Id where the locations were attributed to only one Station name and Id and then updated in the analyzed dataset.\n",
    "   Outstanding Start stations with missing names and ids were then recorded at 556,685 each\n",
    "   \n",
    "   3. End Latitudes and Longitudes for some of the trips were used to determine the End station name and Id and updated in the analyzed dataset       \n",
    "   Outstanding End stations with missing names and ids were then recorded at 610,731 each while no end location at all was recorded for 4,617 trips\n",
    "   \n",
    "   4. None\n",
    "   \n",
    "   5. None\n",
    "   \n",
    "   6. None\n",
    "   \n"
   ]
  },
  {
   "cell_type": "code",
   "execution_count": 97,
   "id": "e8d73edf-c316-4925-ab7f-b9801776579f",
   "metadata": {
    "jupyter": {
     "source_hidden": true
    },
    "tags": []
   },
   "outputs": [
    {
     "data": {
      "image/png": "[encoded data removed]",
      "text/plain": [
       "<Figure size 432x288 with 1 Axes>"
      ]
     },
     "metadata": {
      "needs_background": "light"
     },
     "output_type": "display_data"
    }
   ],
   "source": [
    "import numpy as np\n",
    "import pandas as pd\n",
    "import matplotlib.pyplot as plt\n",
    "%matplotlib inline\n",
    "import seaborn as sns\n",
    "\n",
    "\n",
    "df= pd.DataFrame(dict(\n",
    "no_of_trips = [5667986,5667986],\n",
    "st_end = ['start','end'],\n",
    "original = [712975, 761817],\n",
    "cleaned = [556685, 610731]\n",
    "))\n",
    "\n",
    "\n",
    "bar1 = sns.barplot(x='st_end', y='no_of_trips', data=df, label='no_of_trips',color='green')\n",
    "bar2 = sns.barplot(x='st_end', y='original', data=df, label='original_missing', color='blue')\n",
    "bar3 = sns.barplot(x='st_end', y='cleaned', data=df, label='cleaned',color='red')\n",
    "plt.legend(ncol=3, loc=\"center\", frameon=True)\n",
    "plt.xlabel('Station')\n",
    "plt.ylabel('No of Trips')\n",
    "plt.ylim(0, 6000000)\n",
    "plt.yticks([0,1000000,2000000,3000000,4000000,5000000,6000000], ['0','1m','2m','3m','4m','5m','6m'])\n",
    "plt.show()"
   ]
  },
  {
   "cell_type": "markdown",
   "id": "a9f6ac2f-7aa2-4ec3-a8c8-4d0bde9a7778",
   "metadata": {
    "tags": []
   },
   "source": [
    "\n",
    "\n",
    "#### Total trips with missing start and end station names before and after cleaning the data\n",
    "\n",
    "#####\n",
    "\n",
    "<img src=\"https://thumbs2.imgbox.com/6a/ae/s2JutOzs_t.jpg\" style=\"width: 600px;\"/>"
   ]
  },
  {
   "cell_type": "markdown",
   "id": "7c27dae1-c289-4c09-9b2e-8a0c89fd2b24",
   "metadata": {
    "tags": []
   },
   "source": [
    "#### <u> Assumptions </u>\n",
    "\n",
    "   1. The 4,617 trips without identifiable End stations were ended by proxy (maybe through phone calls in exceptional cases and retrieved by a staff of cyclisist) and not at bike stations\n",
    "   \n",
    "   2. Daylight saving influences some of the recorded durations with negative values. \n",
    "\n",
    "###   \n",
    "   \n",
    "#### Tools adopted for use in this analysis were:\n",
    "\n",
    "   * Excel Spreadsheet & SQL for data cleaning, integrity check, aggregation and manipulation\n",
    "   * Python for further manipulation, analysis and Visualization\n",
    "   * Power BI for visualization and final reporting"
   ]
  },
  {
   "cell_type": "markdown",
   "id": "8cbdc8c9-ca67-46d9-be74-9e71bb557319",
   "metadata": {
    "tags": []
   },
   "source": [
    "\n",
    "\n",
    "# **ANALYSIS**\n",
    "\n",
    "1. Most trips lasted about 21mins\n",
    "\n",
    "2. The maximum trip lasted for 38days, 20hrs 24mins by a Casual rider who took a 'docked bike' from the 'Michigan Ave & Lake St' station on the 5th of June, 2021 and docked it the at 'Malcolm X College Vaccination Site' station on the 13th of July, 2021.\n",
    "\n",
    "3. The minimum ride duration lasted 0.016secs, this occured 936 times. 43 of these trips started and ended at different stations which seems impossible within a minute.(the start or end times must have been recorded in error)\n",
    "\n",
    "4. The top 10 trips as per ride duration were all by Casual riders and were of rideable type: 'docked bike'\n",
    "\n",
    "5. Average ride for trips by Members lasted about 13 minutes while Casual riders rode for an average of 32 minutes\n"
   ]
  },
  {
   "cell_type": "markdown",
   "id": "2f2d884d-834f-45e3-9e50-e238bbfa51f5",
   "metadata": {},
   "source": [
    "6. Average ride duration during the days of the week are tabulated below with an indication that trips are taken for longer periods on weekends than on workdays\n",
    "\n",
    "| Workday | Duration | Weekend | Duration |\n",
    "| :-: | :-: | :-: | :-: | \n",
    "| Monday | 20.58mins | Saturday | 26.02mins|\n",
    "| Tuesday | 18.22mins | Sunday | 27.75mins|\n",
    "| Wednesday | 18.13mins |\n",
    "| Thursday | 18.50mins |\n",
    "| Friday | 20.80mins |"
   ]
  },
  {
   "cell_type": "markdown",
   "id": "ad48b985-c0f1-4dc8-a867-beb89a307fd3",
   "metadata": {},
   "source": [
    "7. Average ride duration during the days of the week, recorded by membership status. Re-iterating the fact that Casual riders use the bike share service more on all days of the week and longer rides occur on weekends \n",
    "\n",
    "| Status | Weekday | Duration || Status| Weekday | Duration |\n",
    "| :-: | :-: | :-: || :-: | :-: | :-: |\n",
    "| Member | Monday | 13.05mins || Casual | Monday | 31.80mins |\n",
    "| Member | Tuesday | 12.67mins || Casual | Tuesday | 27.83mins |\n",
    "| Member | Wednesday | 12.65mins || Casual | Wednesday | 27.67mins |\n",
    "| Member | Thursday | 12.67mins || Casual | Thursday | 27.83mins |\n",
    "| Member | Friday | 13.22mins || Casual | Friday | 31.17mins |\n",
    "| Member | Saturday | 15.08mins|| Casual | Saturday | 34.54mins|\n",
    "| Member | Sunday | 15.48mins|| Casual | Sunday | 37.49mins|"
   ]
  },
  {
   "cell_type": "markdown",
   "id": "5cd94acd-3856-41db-848c-dd2d99b517f2",
   "metadata": {},
   "source": [
    "\n",
    "\n",
    "### Bike Share comparison between Members and Casual Riders\n",
    "\n",
    "\n",
    "\n",
    "<img src=\"https://thumbs2.imgbox.com/84/1e/kqCumsKA_t.jpg\" style=\"width: 900px;\"/>"
   ]
  },
  {
   "cell_type": "markdown",
   "id": "7de23652-6c3f-4b21-8576-88eab3064c55",
   "metadata": {},
   "source": [
    "\n",
    "#### Noticeable seasonal trend:\n",
    "    \n",
    "* Spring: March 1 to May 31 - The weather is warmer and often wetter, following the end of a Winter period. Bike rides began to spike at the end of this period\n",
    "\n",
    "* Summer: June 1 to August 31 - In the summer, temperatures often increase and the dry roads allow for better ride experience. Cyclistic bike share rides peaked during this period\n",
    "\n",
    "* Autumn (Fall): September 1 to November 30 - In the autumn, or fall, temperatures cool again and rides were noticed to drop sharply again towards the end of the season into Winter.\n",
    "\n",
    "* Winter: December 1 to February - Winter often brings a chill. Some areas may experience snow or ice, while others see only cold rain. RIdes were at their lowest ranges in this season and may experience another spike in the coming Spring season."
   ]
  },
  {
   "cell_type": "markdown",
   "id": "ea2ec561-def4-422c-82b4-d269e658266d",
   "metadata": {},
   "source": [
    "#### Daily Trend:\n",
    "\n",
    "* Weekends: Saturdays & Sundays - Causual riders tend to take more rides than members during these days.\n",
    "\n",
    "* Weekdays: Mondays to Fridays - Members take more rides than casual riders during the week. \n",
    "\n",
    "Inference could be drawn from these that members most use of the bike share is for navigation to and/or from work"
   ]
  },
  {
   "cell_type": "markdown",
   "id": "31411682-c737-4fc9-b49a-1edfb67b4ff4",
   "metadata": {},
   "source": [
    "\n",
    "\n",
    "<img src=\"https://thumbs2.imgbox.com/a0/f0/p03EETp8_t.jpg\" style=\"width: 900px;\"/>"
   ]
  },
  {
   "cell_type": "markdown",
   "id": "88bb0ffb-eb54-4414-b7c9-f32bdee62c36",
   "metadata": {},
   "source": [
    "* Classic bikes seem to be the most preferrable to riders, followed by electric bikes, having docked bikes the least preferrable rideable type and rode only bike Casual riders\n",
    "\n",
    "* 'Streeter Dr & Grand Ave' was the most used Start and End station by casual riders, 'Wabash Ave & Grand' and 'Dearborn St & Erie St' being the 10th most used Start and End stations respectively"
   ]
  },
  {
   "cell_type": "markdown",
   "id": "15ab908f-5e90-4c6b-9639-1e3cd8d5893d",
   "metadata": {},
   "source": [
    "\n",
    "\n",
    "# **RECOMMENDATIONS**"
   ]
  },
  {
   "cell_type": "markdown",
   "id": "409e2727-60a0-4193-8e84-a76455f62c2b",
   "metadata": {},
   "source": [
    "Based on available information:\n",
    "\n",
    "1. Membership rides should be charged at a lesser rate to Casual rides (if not already implemented), with more discounts on weekends.\n",
    "\n",
    "2. Physical Ads (bill boards and flyers) should be deployed to the top 10 start and end stations to create top of mind awareness for annual membership.\n",
    "\n",
    "3. Incentives should be offered to members within their few months of membership\n",
    "\n",
    "4. Docked bikes should be made a 'Members only' rideable type\n",
    "\n",
    "5. Reward loyalty programmes should be run for members\n",
    "\n",
    "6. Trip durations should be made available to casual riders at the end of each ride including a membership price comparison for the same trip"
   ]
  },
  {
   "cell_type": "markdown",
   "id": "f48a2902-e183-47c1-8c90-338c187bc2aa",
   "metadata": {},
   "source": [
    "<img src=\"https://thumbs2.imgbox.com/c3/d2/VcV0bA5L_t.jpg\" style=\"width: 1100px;\"/>\n",
    "\n",
    "\n",
    "\n",
    "[Click here](https://github.com/Implilekan/Implilekan/blob/master/Cyclistic.sql) to view the MS SQL Server queries used for this project"
   ]
  }
 ],
 "metadata": {
  "kernelspec": {
   "display_name": "Python 3 (ipykernel)",
   "language": "python",
   "name": "python3"
  },
  "language_info": {
   "codemirror_mode": {
    "name": "ipython",
    "version": 3
   },
   "file_extension": ".py",
   "mimetype": "text/x-python",
   "name": "python",
   "nbconvert_exporter": "python",
   "pygments_lexer": "ipython3",
   "version": "3.9.7"
  }
 },
 "nbformat": 4,
 "nbformat_minor": 5
}
