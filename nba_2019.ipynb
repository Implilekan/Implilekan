{
 "cells": [
  {
   "cell_type": "markdown",
   "id": "e8aa898c-29ac-4332-b5f8-358c5ff9f477",
   "metadata": {},
   "source": [
    "# NBA_2019 DECISION TREE CLASSIFIER"
   ]
  },
  {
   "cell_type": "markdown",
   "id": "db52a0a0-6863-4cab-8cbc-52d62b789795",
   "metadata": {
    "tags": []
   },
   "source": [
    "## Prediction of total points from average heights and weights in a basketball game"
   ]
  },
  {
   "cell_type": "code",
   "execution_count": 7,
   "id": "9ec040fd-20bf-41ff-a395-cd8279b67cc2",
   "metadata": {},
   "outputs": [],
   "source": [
    "import numpy as np\n",
    "import pandas as pd\n",
    "import seaborn as sns\n",
    "import matplotlib.pyplot as plt\n",
    "%matplotlib inline\n",
    "import seaborn as sns"
   ]
  },
  {
   "cell_type": "code",
   "execution_count": 3,
   "id": "2245cf83-8a24-4085-9f33-d69266e45ca6",
   "metadata": {},
   "outputs": [
    {
     "data": {
      "text/html": [
       "<div>\n",
       "<style scoped>\n",
       "    .dataframe tbody tr th:only-of-type {\n",
       "        vertical-align: middle;\n",
       "    }\n",
       "\n",
       "    .dataframe tbody tr th {\n",
       "        vertical-align: top;\n",
       "    }\n",
       "\n",
       "    .dataframe thead th {\n",
       "        text-align: right;\n",
       "    }\n",
       "</style>\n",
       "<table border=\"1\" class=\"dataframe\">\n",
       "  <thead>\n",
       "    <tr style=\"text-align: right;\">\n",
       "      <th></th>\n",
       "      <th>avg_ht</th>\n",
       "      <th>avg_wt</th>\n",
       "      <th>points</th>\n",
       "    </tr>\n",
       "    <tr>\n",
       "      <th>game_id</th>\n",
       "      <th></th>\n",
       "      <th></th>\n",
       "      <th></th>\n",
       "    </tr>\n",
       "  </thead>\n",
       "  <tbody>\n",
       "    <tr>\n",
       "      <th>29482</th>\n",
       "      <td>179.890615</td>\n",
       "      <td>213.615385</td>\n",
       "      <td>0</td>\n",
       "    </tr>\n",
       "    <tr>\n",
       "      <th>29618</th>\n",
       "      <td>178.694923</td>\n",
       "      <td>208.461538</td>\n",
       "      <td>0</td>\n",
       "    </tr>\n",
       "    <tr>\n",
       "      <th>29904</th>\n",
       "      <td>171.508692</td>\n",
       "      <td>197.500000</td>\n",
       "      <td>0</td>\n",
       "    </tr>\n",
       "    <tr>\n",
       "      <th>29383</th>\n",
       "      <td>170.664577</td>\n",
       "      <td>197.923077</td>\n",
       "      <td>0</td>\n",
       "    </tr>\n",
       "    <tr>\n",
       "      <th>29223</th>\n",
       "      <td>179.867154</td>\n",
       "      <td>214.961538</td>\n",
       "      <td>0</td>\n",
       "    </tr>\n",
       "  </tbody>\n",
       "</table>\n",
       "</div>"
      ],
      "text/plain": [
       "             avg_ht      avg_wt  points\n",
       "game_id                                \n",
       "29482    179.890615  213.615385       0\n",
       "29618    178.694923  208.461538       0\n",
       "29904    171.508692  197.500000       0\n",
       "29383    170.664577  197.923077       0\n",
       "29223    179.867154  214.961538       0"
      ]
     },
     "execution_count": 3,
     "metadata": {},
     "output_type": "execute_result"
    }
   ],
   "source": [
    "df = pd.read_csv('C:/Users/IMPLILEKAN/Documents/SAMSON/Data Files/Kaggle/nba/class_avg_pred.csv', index_col=0)\n",
    "df.head()"
   ]
  },
  {
   "cell_type": "code",
   "execution_count": 4,
   "id": "575d224b-18a4-4faf-832d-cff6e305da2e",
   "metadata": {},
   "outputs": [
    {
     "data": {
      "text/plain": [
       "(971, 3)"
      ]
     },
     "execution_count": 4,
     "metadata": {},
     "output_type": "execute_result"
    }
   ],
   "source": [
    "df.shape"
   ]
  },
  {
   "cell_type": "code",
   "execution_count": 6,
   "id": "91ff6dc3-9465-476a-9518-9cf515131d01",
   "metadata": {},
   "outputs": [
    {
     "data": {
      "text/html": [
       "<div>\n",
       "<style scoped>\n",
       "    .dataframe tbody tr th:only-of-type {\n",
       "        vertical-align: middle;\n",
       "    }\n",
       "\n",
       "    .dataframe tbody tr th {\n",
       "        vertical-align: top;\n",
       "    }\n",
       "\n",
       "    .dataframe thead th {\n",
       "        text-align: right;\n",
       "    }\n",
       "</style>\n",
       "<table border=\"1\" class=\"dataframe\">\n",
       "  <thead>\n",
       "    <tr style=\"text-align: right;\">\n",
       "      <th></th>\n",
       "      <th>avg_ht</th>\n",
       "      <th>avg_wt</th>\n",
       "      <th>points</th>\n",
       "    </tr>\n",
       "  </thead>\n",
       "  <tbody>\n",
       "    <tr>\n",
       "      <th>count</th>\n",
       "      <td>971.000000</td>\n",
       "      <td>971.000000</td>\n",
       "      <td>971.000000</td>\n",
       "    </tr>\n",
       "    <tr>\n",
       "      <th>mean</th>\n",
       "      <td>178.797769</td>\n",
       "      <td>209.547295</td>\n",
       "      <td>0.504634</td>\n",
       "    </tr>\n",
       "    <tr>\n",
       "      <th>std</th>\n",
       "      <td>7.177270</td>\n",
       "      <td>8.845522</td>\n",
       "      <td>0.500236</td>\n",
       "    </tr>\n",
       "    <tr>\n",
       "      <th>min</th>\n",
       "      <td>151.567654</td>\n",
       "      <td>177.115385</td>\n",
       "      <td>0.000000</td>\n",
       "    </tr>\n",
       "    <tr>\n",
       "      <th>25%</th>\n",
       "      <td>172.739481</td>\n",
       "      <td>204.076923</td>\n",
       "      <td>0.000000</td>\n",
       "    </tr>\n",
       "    <tr>\n",
       "      <th>50%</th>\n",
       "      <td>178.894115</td>\n",
       "      <td>210.307692</td>\n",
       "      <td>1.000000</td>\n",
       "    </tr>\n",
       "    <tr>\n",
       "      <th>75%</th>\n",
       "      <td>185.752115</td>\n",
       "      <td>216.653846</td>\n",
       "      <td>1.000000</td>\n",
       "    </tr>\n",
       "    <tr>\n",
       "      <th>max</th>\n",
       "      <td>189.175308</td>\n",
       "      <td>226.192308</td>\n",
       "      <td>1.000000</td>\n",
       "    </tr>\n",
       "  </tbody>\n",
       "</table>\n",
       "</div>"
      ],
      "text/plain": [
       "           avg_ht      avg_wt      points\n",
       "count  971.000000  971.000000  971.000000\n",
       "mean   178.797769  209.547295    0.504634\n",
       "std      7.177270    8.845522    0.500236\n",
       "min    151.567654  177.115385    0.000000\n",
       "25%    172.739481  204.076923    0.000000\n",
       "50%    178.894115  210.307692    1.000000\n",
       "75%    185.752115  216.653846    1.000000\n",
       "max    189.175308  226.192308    1.000000"
      ]
     },
     "execution_count": 6,
     "metadata": {},
     "output_type": "execute_result"
    }
   ],
   "source": [
    "df.describe()"
   ]
  },
  {
   "cell_type": "code",
   "execution_count": 11,
   "id": "c602ae2a-766e-4fe0-9f2b-44f3ec8d43c3",
   "metadata": {},
   "outputs": [
    {
     "data": {
      "image/png": "[encoded data removed]",
      "text/plain": [
       "<Figure size 432x288 with 1 Axes>"
      ]
     },
     "metadata": {
      "needs_background": "light"
     },
     "output_type": "display_data"
    }
   ],
   "source": [
    "sns.boxplot(y=df['avg_ht'],x=df['points'], data=df)\n",
    "plt.show()"
   ]
  },
  {
   "cell_type": "code",
   "execution_count": 21,
   "id": "56aa7129-1b7c-4caf-b70d-a7978f16ef28",
   "metadata": {},
   "outputs": [
    {
     "data": {
      "image/png": "[encoded data removed]",
      "text/plain": [
       "<Figure size 432x288 with 1 Axes>"
      ]
     },
     "metadata": {
      "needs_background": "light"
     },
     "output_type": "display_data"
    }
   ],
   "source": [
    "sns.boxplot(y=df['avg_wt'],x=df['points'], data=df)\n",
    "plt.show()"
   ]
  },
  {
   "cell_type": "code",
   "execution_count": 22,
   "id": "88fdb972-bec5-4809-aa3f-55c52b24c7df",
   "metadata": {},
   "outputs": [],
   "source": [
    "x = df.drop(columns=['points'])\n",
    "y = df['points']"
   ]
  },
  {
   "cell_type": "code",
   "execution_count": 46,
   "id": "c11371f9-bf8a-4b24-86d5-a5816815334a",
   "metadata": {},
   "outputs": [],
   "source": [
    "from sklearn.tree import DecisionTreeClassifier\n",
    "from sklearn.model_selection import train_test_split\n",
    "from sklearn.metrics import accuracy_score\n",
    "import joblib"
   ]
  },
  {
   "cell_type": "code",
   "execution_count": 47,
   "id": "59a863be-3e61-4167-adfe-dc0ed3abf295",
   "metadata": {},
   "outputs": [
    {
     "data": {
      "text/plain": [
       "['C:/Users/IMPLILEKAN/Documents/SAMSON/Data Files/Kaggle/nba/nba2019_Dec_Tree.joblib']"
      ]
     },
     "execution_count": 47,
     "metadata": {},
     "output_type": "execute_result"
    }
   ],
   "source": [
    "X_train, X_test, Y_train, Y_test = train_test_split(x, y, test_size=0.2, random_state=2)\n",
    "model = DecisionTreeClassifier()\n",
    "model.fit(X_train, Y_train)\n",
    "joblib.dump(model, 'C:/Users/IMPLILEKAN/Documents/SAMSON/Data Files/Kaggle/nba/nba2019_Dec_Tree.joblib')"
   ]
  },
  {
   "cell_type": "code",
   "execution_count": 48,
   "id": "f7a1c389-b4e2-4782-963b-ca7c0853cb77",
   "metadata": {},
   "outputs": [
    {
     "data": {
      "text/plain": [
       "0.4"
      ]
     },
     "execution_count": 48,
     "metadata": {},
     "output_type": "execute_result"
    }
   ],
   "source": [
    "pred = model.predict(X_test)\n",
    "score = accuracy_score(Y_test,pred)\n",
    "score"
   ]
  }
 ],
 "metadata": {
  "kernelspec": {
   "display_name": "Python 3 (ipykernel)",
   "language": "python",
   "name": "python3"
  },
  "language_info": {
   "codemirror_mode": {
    "name": "ipython",
    "version": 3
   },
   "file_extension": ".py",
   "mimetype": "text/x-python",
   "name": "python",
   "nbconvert_exporter": "python",
   "pygments_lexer": "ipython3",
   "version": "3.9.7"
  }
 },
 "nbformat": 4,
 "nbformat_minor": 5
}
